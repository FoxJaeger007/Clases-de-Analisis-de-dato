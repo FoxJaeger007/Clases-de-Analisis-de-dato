{
  "nbformat": 4,
  "nbformat_minor": 0,
  "metadata": {
    "colab": {
      "provenance": [],
      "toc_visible": true,
      "authorship_tag": "ABX9TyM3oPKGPluK4Y1xv2OfeHj4",
      "include_colab_link": true
    },
    "kernelspec": {
      "name": "python3",
      "display_name": "Python 3"
    },
    "language_info": {
      "name": "python"
    }
  },
  "cells": [
    {
      "cell_type": "markdown",
      "metadata": {
        "id": "view-in-github",
        "colab_type": "text"
      },
      "source": [
        "<a href=\"https://colab.research.google.com/github/FoxJaeger007/Clases-de-Analisis-de-dato/blob/main/Laboratorio_6.ipynb\" target=\"_parent\"><img src=\"https://colab.research.google.com/assets/colab-badge.svg\" alt=\"Open In Colab\"/></a>"
      ]
    },
    {
      "cell_type": "code",
      "execution_count": 4,
      "metadata": {
        "colab": {
          "base_uri": "https://localhost:8080/"
        },
        "id": "drAi9kDCYb9s",
        "outputId": "4c71798a-f1ac-43f8-8fd9-66287af225a9"
      },
      "outputs": [
        {
          "output_type": "stream",
          "name": "stdout",
          "text": [
            "Hirviendo agua...\n",
            "Colocando la bolsa de té en la taza...\n",
            "Vertiendo agua caliente en la taza...\n",
            "Dejando reposar el té...\n",
            "Retirando la bolsa de té...\n",
            "Agregando azúcar/miel/limón al gusto (opcional)...\n",
            "Revolviendo el té...\n"
          ]
        }
      ],
      "source": [
        "# Parte 2 ejercicio 1 Este algoritmo describe los pasos para preparar un té y lo implementamos en Python.\n",
        "\n",
        "print(\"Hirviendo agua...\")\n",
        "print(\"Colocando la bolsa de té en la taza...\")\n",
        "print(\"Vertiendo agua caliente en la taza...\")\n",
        "print(\"Dejando reposar el té...\")\n",
        "print(\"Retirando la bolsa de té...\")\n",
        "print(\"Agregando azúcar/miel/limón al gusto (opcional)...\")\n",
        "print(\"Revolviendo el té...\")\n"
      ]
    },
    {
      "cell_type": "code",
      "source": [
        "# Parte 2 ejercicio 2 : Utilizar variables y tipos de datos para almacenar las notas de un estudiante, y un operador aritmético para calcular el promedio.\n",
        "\n",
        "\n",
        "# Paso 1: Almacenar las notas en variables\n",
        "nota1 = float(input (\"ingrese nota 5 \"))\n",
        "nota2 = float(input (\"ingrese nota 3 \"))\n",
        "nota3 = float(input (\"ingrese nota 4 \"))\n",
        "nota4 = float(input (\"ingrese nota 3 \"))\n",
        "nota5 = float(input (\"ingrese nota 4 \"))\n",
        "\n",
        "# Paso 2: Sumar todas las notas\n",
        "suma_de_notas = nota1 + nota2 + nota3 + nota4 + nota5\n",
        "\n",
        "# Paso 3: Calcular el promedio\n",
        "numero_de_notas = 5  # Número total de notas\n",
        "promedio = suma_de_notas / numero_de_notas\n",
        "\n",
        "# Mostrar el promedio\n",
        "print(\"El promedio de las notas es:\", promedio)\n"
      ],
      "metadata": {
        "colab": {
          "base_uri": "https://localhost:8080/"
        },
        "id": "6jaGhKRTahjN",
        "outputId": "7a092be8-8e64-470f-f78c-da3abb13316a"
      },
      "execution_count": 7,
      "outputs": [
        {
          "output_type": "stream",
          "name": "stdout",
          "text": [
            "ingrese nota 5 3\n",
            "ingrese nota 3 5\n",
            "ingrese nota 4 4\n",
            "ingrese nota 3 6\n",
            "ingrese nota 4 7\n",
            "El promedio de las notas es: 5.0\n"
          ]
        }
      ]
    },
    {
      "cell_type": "code",
      "source": [
        "# Parte 2 ejercicio 3 : Utiliza condicionales para verificar si un número es par o impar, y operadores para realizar el cálculo.\n",
        "\n",
        "\n",
        "# Paso 1: Solicitar un número del usuario (opcional)\n",
        "numero = int(input(\"Introduce un número: \"))\n",
        "\n",
        "# Paso 2: Verificar si el número es divisible por 2 usando el operador de módulo (%)\n",
        "if numero % 2 == 0:\n",
        "    # Paso 3: Condicional si el número es par\n",
        "    print(\"El número\", numero, \"es par.\")\n",
        "else:\n",
        "    # Paso 3: Condicional si el número es impar\n",
        "    print(\"El número\", numero, \"es impar.\")\n"
      ],
      "metadata": {
        "colab": {
          "base_uri": "https://localhost:8080/"
        },
        "id": "6QjcH7TvdJNm",
        "outputId": "7e201c83-2d13-4edd-c340-dd099056a9ce"
      },
      "execution_count": 8,
      "outputs": [
        {
          "output_type": "stream",
          "name": "stdout",
          "text": [
            "Introduce un número: 9\n",
            "El número 9 es impar.\n"
          ]
        }
      ]
    },
    {
      "cell_type": "code",
      "source": [
        "# Parte 2 ejercicio 4 :\tBucle for para Imprimir Números del 1 al 5: Usar un bucle for para mostrar los números del 1 al 5\n",
        "#y combinar los operadores aritméticos para mostrar si son pares o impares.\n",
        "\n",
        "# Bucle for para imprimir números del 1 al 5\n",
        "for numero in range(1, 6):\n",
        "    # Verificar si el número es par o impar usando el operador de módulo (%)\n",
        "    if numero % 2 == 0:\n",
        "        print(f\"El número {numero} es par.\")\n",
        "    else:\n",
        "        print(f\"El número {numero} es impar.\")\n"
      ],
      "metadata": {
        "colab": {
          "base_uri": "https://localhost:8080/"
        },
        "id": "a2riNX7leCbO",
        "outputId": "798e157f-a96d-4bb6-c092-22690ec72158"
      },
      "execution_count": 9,
      "outputs": [
        {
          "output_type": "stream",
          "name": "stdout",
          "text": [
            "El número 1 es impar.\n",
            "El número 2 es par.\n",
            "El número 3 es impar.\n",
            "El número 4 es par.\n",
            "El número 5 es impar.\n"
          ]
        }
      ]
    },
    {
      "cell_type": "code",
      "source": [
        "# Parte 2 ejercicio 5.\tConvertir Grados Celsius a Fahrenheit: Usar una función para convertir grados Celsius a Fahrenheit.\n",
        "#La fórmula para la conversión es Fahrenheit = (Celsius * 9/5) + 32.\n",
        "\n",
        "# Paso 1: Definir el valor de Celsius\n",
        "celsius = float(input(\"Introduce grados Celcsius: \"))\n",
        "\n",
        "# Paso 2: Calcular Fahrenheit usando la fórmula (Celsius * 9/5) + 32\n",
        "fahrenheit = (celsius * 9/5) + 32\n",
        "\n",
        "# Paso 3: Imprimir el resultado\n",
        "print(f\"{celsius} grados Celsius son {fahrenheit} grados Fahrenheit.\")\n"
      ],
      "metadata": {
        "colab": {
          "base_uri": "https://localhost:8080/"
        },
        "id": "dbctm4pvez6J",
        "outputId": "e44f23de-4c48-4579-ab03-9151950c1973"
      },
      "execution_count": 12,
      "outputs": [
        {
          "output_type": "stream",
          "name": "stdout",
          "text": [
            "Introduce grados Celcsius: 100\n",
            "100.0 grados Celsius son 212.0 grados Fahrenheit.\n"
          ]
        }
      ]
    },
    {
      "cell_type": "code",
      "source": [
        "\n",
        "#Parte 2 ejercicio 6 .\tContar la Cantidad de Vocales en una Cadena de Texto: Utilizar un bucle for y una condicional para contar cuántas vocales hay en una cadena de texto ingresada por el usuario.\n",
        "# Solicitar una cadena de texto al usuario\n",
        "texto = input(\"Introduce una cadena de texto: \")\n",
        "\n",
        "# Definir las vocales\n",
        "vocales = \"aeiouAEIOU\"\n",
        "\n",
        "# Inicializar el contador de vocales\n",
        "contador_vocales = 0\n",
        "\n",
        "# Utilizar un bucle for para recorrer cada caracter en la cadena de texto\n",
        "for caracter in texto:\n",
        "    # Utilizar una condicional para verificar si el caracter es una vocal\n",
        "    if caracter in vocales:\n",
        "        contador_vocales += 1\n",
        "\n",
        "# Imprimir el número de vocales\n",
        "print(f\"La cantidad de vocales en la cadena de texto es: {contador_vocales}\")\n",
        "\n"
      ],
      "metadata": {
        "colab": {
          "base_uri": "https://localhost:8080/"
        },
        "id": "mrXjB5Yzges-",
        "outputId": "0bbc53ca-96d4-4080-8599-31da32a54e8b"
      },
      "execution_count": 17,
      "outputs": [
        {
          "output_type": "stream",
          "name": "stdout",
          "text": [
            "Introduce una cadena de texto: hola\n",
            "La cantidad de vocales en la cadena de texto es: 2\n"
          ]
        }
      ]
    },
    {
      "cell_type": "code",
      "source": [
        "#Usar un bucle while para calcular el factorial de un número ingresado por el usuario.\n",
        "#El factorial de un número n (n!) es el producto de todos los números enteros positivos menores o iguales a n.\n",
        "\n",
        "# Solicitar un número al usuario\n",
        "numero = int(input(\"Introduce un número: \"))\n",
        "\n",
        "# Inicializar el factorial en 1 (factorial de 0 y 1 es 1)\n",
        "factorial = 1\n",
        "\n",
        "# Inicializar un contador\n",
        "contador = 1\n",
        "\n",
        "# Utilizar un bucle while para calcular el factorial\n",
        "while contador <= numero:\n",
        "    factorial *= contador  # Multiplicar factorial por el valor del contador\n",
        "    contador += 1          # Incrementar el contador\n",
        "\n",
        "# Imprimir el resultado\n",
        "print(f\"El factorial de {numero} es: {factorial}\")\n"
      ],
      "metadata": {
        "colab": {
          "base_uri": "https://localhost:8080/"
        },
        "id": "Q60cH8iDio4N",
        "outputId": "ac9385f0-8dea-44d4-9dee-e27628d4c097"
      },
      "execution_count": 18,
      "outputs": [
        {
          "output_type": "stream",
          "name": "stdout",
          "text": [
            "Introduce un número: 10\n",
            "El factorial de 10 es: 3628800\n"
          ]
        }
      ]
    }
  ]
}
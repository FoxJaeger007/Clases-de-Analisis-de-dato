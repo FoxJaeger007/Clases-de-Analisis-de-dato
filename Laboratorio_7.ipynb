{
  "nbformat": 4,
  "nbformat_minor": 0,
  "metadata": {
    "colab": {
      "provenance": [],
      "authorship_tag": "ABX9TyMqqCAID5Ek9OmZZrNL9HhX",
      "include_colab_link": true
    },
    "kernelspec": {
      "name": "python3",
      "display_name": "Python 3"
    },
    "language_info": {
      "name": "python"
    }
  },
  "cells": [
    {
      "cell_type": "markdown",
      "metadata": {
        "id": "view-in-github",
        "colab_type": "text"
      },
      "source": [
        "<a href=\"https://colab.research.google.com/github/FoxJaeger007/Clases-de-Analisis-de-dato/blob/main/Laboratorio_7.ipynb\" target=\"_parent\"><img src=\"https://colab.research.google.com/assets/colab-badge.svg\" alt=\"Open In Colab\"/></a>"
      ]
    },
    {
      "cell_type": "code",
      "execution_count": 1,
      "metadata": {
        "colab": {
          "base_uri": "https://localhost:8080/"
        },
        "id": "XU-zqZfEmTdd",
        "outputId": "8fc54940-da5f-4a4c-a5eb-c286f4473365"
      },
      "outputs": [
        {
          "output_type": "stream",
          "name": "stdout",
          "text": [
            "   Nombre   Profesión       País\n",
            "0     Ana   Ingeniera     España\n",
            "1  Carlos      Médico     México\n",
            "2   Laura     Abogada  Argentina\n",
            "3    Juan    Profesor      Chile\n",
            "4   María     Artista   Colombia\n",
            "5   Pedro  Carpintero       Perú\n",
            "6   Lucía  Diseñadora    Uruguay\n",
            "7   Marta  Científica     Brasil\n"
          ]
        }
      ],
      "source": [
        "# Parte 1 ejercicio 1 - Crear un DataFrame con los nombres, profesión y países de 8 personas, y luego imprimir el DataFrame.\n",
        "\n",
        "import pandas as pd\n",
        "\n",
        "# Crear un diccionario con los datos\n",
        "datos = {\n",
        "    'Nombre': ['Ana', 'Carlos', 'Laura', 'Juan', 'María', 'Pedro', 'Lucía', 'Marta'],\n",
        "    'Profesión': ['Ingeniera', 'Médico', 'Abogada', 'Profesor', 'Artista', 'Carpintero', 'Diseñadora', 'Científica'],\n",
        "    'País': ['España', 'México', 'Argentina', 'Chile', 'Colombia', 'Perú', 'Uruguay', 'Brasil']\n",
        "}\n",
        "\n",
        "# Crear el DataFrame\n",
        "df = pd.DataFrame(datos)\n",
        "\n",
        "# Imprimir el DataFrame\n",
        "print(df)\n"
      ]
    },
    {
      "cell_type": "code",
      "source": [
        "# Parte 1 --\tCargar un archivo CSV (puedes usar un archivo de ejemplo en tu entorno) y mostrar las primeras 5 filas.\n",
        "\n",
        "import pandas as pd\n",
        "\n",
        "# Leer el archivo CSV\n",
        "df = pd.read_csv('Laboratorio_6.csv', sep=\";\")\n",
        "\n",
        "# Mostrar las primeras filas del DataFrame\n",
        "print(df.head(5))\n"
      ],
      "metadata": {
        "colab": {
          "base_uri": "https://localhost:8080/"
        },
        "id": "3827DisooQIb",
        "outputId": "55fda4d2-e304-4f1d-ad2f-d3dbf0ed4e4c"
      },
      "execution_count": 8,
      "outputs": [
        {
          "output_type": "stream",
          "name": "stdout",
          "text": [
            "   id     cedula nombres y apellidos           direccion     celular  \\\n",
            "0   1   45673849        ANA GONZALEZ        cl 2 #123-34  3114562728   \n",
            "1   2   38755920          BERTA CRUZ   carrera 3 # 23-23  3108976542   \n",
            "2   3  867433939    ROBERTO     RIOS        cl 32 #45-23  3004567283   \n",
            "3   4  387575741         MARIACASTRO  carrera 32 # 34-43  3057893245   \n",
            "4   5   12234421      MARRRIA   RIOS      cl132 #145-123  3125578930   \n",
            "\n",
            "      correo electronico      pais valor factura  servicio fecha instalacion  \n",
            "0           ag@gmail.com  Colombia   $ 45.000,00     Hogar         3/05/2023  \n",
            "1      berta@hotmail.com  Colombia   $ 34.876,00     Hogar        30/06/2022  \n",
            "2             Sin Correo     Chile   $ 23.456,00  Comercio         8/06/2024  \n",
            "3      mcastro@yahoo.com     Chile   $ 45.000,00  Comercio               NaN  \n",
            "4  lindatriana@gmail.com     Japon  $ 450.000,00  Comercio        20/04/2022  \n"
          ]
        }
      ]
    },
    {
      "cell_type": "code",
      "source": [
        "# Parte 1 -\tGenerar un DataFrame con 100 filas y 8 columnas de valores aleatorios, y luego mostrar un resumen estadístico de los datos.\n",
        "\n",
        "import pandas as pd\n",
        "import numpy as np\n",
        "\n",
        "# Generar un DataFrame con valores aleatorios\n",
        "data = np.random.randn(100, 8)  # 100 filas y 8 columnas de valores aleatorios\n",
        "columnas = ['Columna1', 'Columna2', 'Columna3', 'Columna4', 'Columna5', 'Columna6', 'Columna7', 'Columna8']\n",
        "\n",
        "df = pd.DataFrame(data, columns=columnas)\n",
        "\n",
        "# Mostrar un resumen estadístico de los datos\n",
        "resumen_estadistico = df.describe()\n",
        "print(resumen_estadistico)\n"
      ],
      "metadata": {
        "colab": {
          "base_uri": "https://localhost:8080/"
        },
        "id": "Ds97fCyYoTJH",
        "outputId": "4a5e9dbc-50a8-4fe2-dbbc-d3957c217258"
      },
      "execution_count": 3,
      "outputs": [
        {
          "output_type": "stream",
          "name": "stdout",
          "text": [
            "         Columna1    Columna2    Columna3    Columna4    Columna5    Columna6  \\\n",
            "count  100.000000  100.000000  100.000000  100.000000  100.000000  100.000000   \n",
            "mean    -0.049261    0.062971    0.046680    0.119234    0.162262   -0.163862   \n",
            "std      0.938233    1.022730    0.918367    0.995381    0.992635    1.083099   \n",
            "min     -3.405875   -1.833517   -2.158260   -2.316335   -2.057483   -3.314381   \n",
            "25%     -0.630173   -0.725829   -0.599450   -0.469321   -0.535611   -0.834626   \n",
            "50%     -0.176652   -0.056841    0.068714    0.103066    0.215181   -0.110505   \n",
            "75%      0.527928    0.633692    0.829102    0.762527    0.771352    0.526648   \n",
            "max      2.546142    2.715532    1.870177    2.278513    2.686689    3.287534   \n",
            "\n",
            "         Columna7    Columna8  \n",
            "count  100.000000  100.000000  \n",
            "mean     0.036937    0.042479  \n",
            "std      1.097694    1.052685  \n",
            "min     -2.833485   -3.713147  \n",
            "25%     -0.717453   -0.520718  \n",
            "50%      0.219414    0.012910  \n",
            "75%      0.841034    0.546853  \n",
            "max      2.310531    2.616808  \n"
          ]
        }
      ]
    },
    {
      "cell_type": "code",
      "source": [
        "#Parte 2 -\tCrear un array de números del 1 al 10 y mostrar la suma, la media, y el valor máximo.\n",
        "\n",
        "\n",
        "import numpy as np\n",
        "\n",
        "# Crear un array de números del 1 al 10\n",
        "array = np.arange(1, 11)\n",
        "\n",
        "# Calcular la suma\n",
        "suma = np.sum(array)\n",
        "\n",
        "# Calcular la media\n",
        "media = np.mean(array)\n",
        "\n",
        "# Calcular el valor máximo\n",
        "maximo = np.max(array)\n",
        "\n",
        "# Mostrar los resultados\n",
        "print(f\"Array: {array}\")\n",
        "print(f\"Suma: {suma}\")\n",
        "print(f\"Media: {media}\")\n",
        "print(f\"Valor Máximo: {maximo}\")\n"
      ],
      "metadata": {
        "colab": {
          "base_uri": "https://localhost:8080/"
        },
        "id": "_Ypt9YyDqDlv",
        "outputId": "ba410b47-e6d8-4901-fe8a-2b701e2c5e2f"
      },
      "execution_count": 9,
      "outputs": [
        {
          "output_type": "stream",
          "name": "stdout",
          "text": [
            "Array: [ 1  2  3  4  5  6  7  8  9 10]\n",
            "Suma: 55\n",
            "Media: 5.5\n",
            "Valor Máximo: 10\n"
          ]
        }
      ]
    },
    {
      "cell_type": "code",
      "source": [
        "#Parte 2 - -\tCrear un array de 3x4 lleno de ceros y luego cambiar su forma a 2x6\n",
        "\n",
        "import numpy as np\n",
        "\n",
        "# Crear un array de 3x4 lleno de ceros\n",
        "array_3x4 = np.zeros((3, 4))\n",
        "\n",
        "# Mostrar el array original\n",
        "print(\"Array 3x4 original:\")\n",
        "print(array_3x4)\n",
        "\n",
        "# Cambiar la forma del array a 2x6\n",
        "array_2x6 = array_3x4.reshape(2, 6)\n",
        "\n",
        "# Mostrar el array con la nueva forma\n",
        "print(\"Array 2x6 después de reshape:\")\n",
        "print(array_2x6)\n"
      ],
      "metadata": {
        "colab": {
          "base_uri": "https://localhost:8080/"
        },
        "id": "dbLU_wEWqWf7",
        "outputId": "eeae53df-dd14-4ed2-cb75-f5ba530e2196"
      },
      "execution_count": 10,
      "outputs": [
        {
          "output_type": "stream",
          "name": "stdout",
          "text": [
            "Array 3x4 original:\n",
            "[[0. 0. 0. 0.]\n",
            " [0. 0. 0. 0.]\n",
            " [0. 0. 0. 0.]]\n",
            "Array 2x6 después de reshape:\n",
            "[[0. 0. 0. 0. 0. 0.]\n",
            " [0. 0. 0. 0. 0. 0.]]\n"
          ]
        }
      ]
    },
    {
      "cell_type": "code",
      "source": [
        "# Parte 2 - -\tGenerar una matriz aleatoria de 3x3 y calcular su transpuesta.\n",
        "\n",
        "import numpy as np\n",
        "\n",
        "# Generar una matriz aleatoria de 3x3\n",
        "matriz_3x3 = np.random.rand(3, 3)\n",
        "\n",
        "# Calcular la transpuesta de la matriz\n",
        "matriz_transpuesta = matriz_3x3.T\n",
        "\n",
        "# Mostrar la matriz original y su transpuesta\n",
        "print(\"Matriz 3x3 original:\")\n",
        "print(matriz_3x3)\n",
        "\n",
        "print(\"\\nMatriz transpuesta:\")\n",
        "print(matriz_transpuesta)\n"
      ],
      "metadata": {
        "colab": {
          "base_uri": "https://localhost:8080/"
        },
        "id": "fDnxHc09qp5f",
        "outputId": "10d0476d-f108-450d-e0bf-c3ce0bcf5885"
      },
      "execution_count": 11,
      "outputs": [
        {
          "output_type": "stream",
          "name": "stdout",
          "text": [
            "Matriz 3x3 original:\n",
            "[[0.06675827 0.11882493 0.62897167]\n",
            " [0.59047772 0.62095598 0.15392879]\n",
            " [0.55110193 0.34693785 0.41974915]]\n",
            "\n",
            "Matriz transpuesta:\n",
            "[[0.06675827 0.59047772 0.55110193]\n",
            " [0.11882493 0.62095598 0.34693785]\n",
            " [0.62897167 0.15392879 0.41974915]]\n"
          ]
        }
      ]
    },
    {
      "cell_type": "code",
      "source": [
        "# Parte 2 -\tConcatenar dos arrays de NumPy, cada uno con 5 valores, y luego imprimir el array concatenado.\n",
        "\n",
        "import numpy as np\n",
        "\n",
        "# Crear dos arrays de NumPy con 5 valores cada uno\n",
        "array1 = np.array([1, 2, 8, 4, 4])\n",
        "array2 = np.array([5, 10, 10, 9, 11])\n",
        "\n",
        "# Concatenar los dos arrays\n",
        "array_concatenado = np.concatenate((array1, array2))\n",
        "\n",
        "# Imprimir el array concatenado\n",
        "print(\"Array concatenado:\")\n",
        "print(array_concatenado)\n"
      ],
      "metadata": {
        "colab": {
          "base_uri": "https://localhost:8080/"
        },
        "id": "522RktK7q5us",
        "outputId": "8dea1d80-ea85-437f-93e4-4505c4a4e7b4"
      },
      "execution_count": 12,
      "outputs": [
        {
          "output_type": "stream",
          "name": "stdout",
          "text": [
            "Array concatenado:\n",
            "[ 1  2  8  4  4  5 10 10  9 11]\n"
          ]
        }
      ]
    },
    {
      "cell_type": "markdown",
      "source": [
        "# New Section"
      ],
      "metadata": {
        "id": "Zt6ekAdYpJgs"
      }
    }
  ]
}
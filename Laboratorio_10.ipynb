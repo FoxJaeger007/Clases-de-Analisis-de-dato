{
  "nbformat": 4,
  "nbformat_minor": 0,
  "metadata": {
    "colab": {
      "provenance": [],
      "authorship_tag": "ABX9TyO3uF0H3Jvk8KI/uuR79ezB",
      "include_colab_link": true
    },
    "kernelspec": {
      "name": "python3",
      "display_name": "Python 3"
    },
    "language_info": {
      "name": "python"
    }
  },
  "cells": [
    {
      "cell_type": "markdown",
      "metadata": {
        "id": "view-in-github",
        "colab_type": "text"
      },
      "source": [
        "<a href=\"https://colab.research.google.com/github/FoxJaeger007/Clases-de-Analisis-de-dato/blob/main/Laboratorio_10.ipynb\" target=\"_parent\"><img src=\"https://colab.research.google.com/assets/colab-badge.svg\" alt=\"Open In Colab\"/></a>"
      ]
    },
    {
      "cell_type": "code",
      "execution_count": 65,
      "metadata": {
        "colab": {
          "base_uri": "https://localhost:8080/"
        },
        "id": "P9tvmLZ9OFEp",
        "outputId": "4e62d5fb-1f93-4712-8010-746cdb77593d"
      },
      "outputs": [
        {
          "output_type": "stream",
          "name": "stdout",
          "text": [
            "   Nombre   Edad Fecha Ingreso  Resultado Prueba\n",
            "0  Carlos  34.00    2021-01-15              True\n",
            "1     Ana  29.00    2020-03-12             False\n",
            "2    Luis  33.25    2022-07-01              True\n",
            "3   Pedro  45.00    2021-12-01              True\n",
            "4   María  25.00    2021-05-20             False\n"
          ]
        },
        {
          "output_type": "stream",
          "name": "stderr",
          "text": [
            "<ipython-input-65-31be7244c0e3>:27: FutureWarning: A value is trying to be set on a copy of a DataFrame or Series through chained assignment using an inplace method.\n",
            "The behavior will change in pandas 3.0. This inplace method will never work because the intermediate object on which we are setting values always behaves as a copy.\n",
            "\n",
            "For example, when doing 'df[col].method(value, inplace=True)', try using 'df.method({col: value}, inplace=True)' or df[col] = df[col].method(value) instead, to perform the operation inplace on the original object.\n",
            "\n",
            "\n",
            "  df['Edad'].fillna(df['Edad'].mean(), inplace=True)\n",
            "<ipython-input-65-31be7244c0e3>:34: FutureWarning: Downcasting behavior in `replace` is deprecated and will be removed in a future version. To retain the old behavior, explicitly call `result.infer_objects(copy=False)`. To opt-in to the future behavior, set `pd.set_option('future.no_silent_downcasting', True)`\n",
            "  df['Resultado Prueba'] = df['Resultado Prueba'].replace({'Positivo': True, 'Negativo': False}, regex=True)\n"
          ]
        }
      ],
      "source": [
        "#Parte 1\n",
        "#Los ejercicios de práctica son escenarios reales que se deberás realizar el código\n",
        "#usando las bibliotecas en Python para la manipulación de los datos y limpieza de los datos,\n",
        "#pegar la captura de pantalla del resultado.\n",
        "\n",
        "\n",
        "#1.\tEjercicio de práctica 1.\n",
        "\n",
        "#1.\tSalud Digital y Análisis de Datos de Pacientes\n",
        "#Se tiene un conjunto de datos sobre pacientes que incluye nombre, edad, fecha de ingreso y resultados de pruebas. Algunos registros están incompletos o contienen errores.\n",
        "\n",
        "import pandas as pd\n",
        "import numpy as np\n",
        "\n",
        "data = {\n",
        "'Nombre': ['Carlos', 'Ana', 'Luis','Pedro', 'María', None],\n",
        "'Edad': [34, 29, None, 45, 25, 33],\n",
        "'Fecha Ingreso': ['2021-01-15', '2020/03/12', '2022-07-01','2021/12/01','2021-05-20', '2020-03-12'],\n",
        "'Resultado Prueba': ['Positivo','Negativo', 'Positivo','Positivo', 'Negativo','Negativo']\n",
        "}\n",
        "df = pd.DataFrame(data)\n",
        "\n",
        "# se borran los datos que tengan el nombre vacio\n",
        "df.dropna(subset=['Nombre'], inplace=True)\n",
        "\n",
        "# se remplaza las edades vacias por la media\n",
        "df['Edad'].fillna(df['Edad'].mean(), inplace=True)\n",
        "\n",
        "#se da formato a la fecha\n",
        "df['Fecha Ingreso'] = df['Fecha Ingreso'].astype(str).str.replace('/','-')\n",
        "df['Fecha Ingreso'] = pd.to_datetime(df['Fecha Ingreso'],\n",
        "errors='coerce', format='%Y-%m-%d',dayfirst=True)\n",
        "\n",
        "\n",
        "df['Resultado Prueba'] = df['Resultado Prueba'].replace({'Positivo': True, 'Negativo': False}, regex=True)\n",
        "\n",
        "# Mostrar el DataFrame\n",
        "print(df)\n",
        "\n",
        "\n",
        "\n"
      ]
    },
    {
      "cell_type": "code",
      "source": [
        "#1.2.\tComercio Electrónico y Recomendaciones Personalizadas\n",
        "#Se tiene un conjunto de datos sobre transacciones de clientes que incluye el ID\n",
        "#del cliente, el producto comprado, la cantidad, el precio y la fecha de la transacción.\n",
        "#Algunos registros tienen errores en los precios y fechas.\n",
        "\n",
        "\n",
        "data = {\n",
        "'Cliente ID': [1, 2, 3, 4, 5],\n",
        "'Cantidad': ['A', 'B', 'C','D', 'E'],\n",
        "'Precio': ['100', '200$','300', 'cuatrocientos','500'],\n",
        "'Fecha Transaccion': ['2023-01-15','2023/02/20','2023-03-25','2023/04/30','2023-05-10']}\n",
        "df = pd.DataFrame(data)\n",
        "\n",
        "# se estandariza el precio\n",
        "df['Precio'] = df['Precio'].replace({'\\$': '', 'cuatrocientos': '400'}, regex=True).astype(float)\n",
        "\n",
        "# se estandariza la fecha\n",
        "\n",
        "df['Fecha Transaccion'] = df['Fecha Transaccion'].astype(str).str.replace('/','-')\n",
        "df['Fecha Transaccion'] = pd.to_datetime(df['Fecha Transaccion'],\n",
        "errors='coerce', format='%Y-%m-%d',dayfirst=True)\n",
        "\n",
        "# Mostrar el DataFrame\n",
        "print(df)\n"
      ],
      "metadata": {
        "colab": {
          "base_uri": "https://localhost:8080/"
        },
        "id": "aR9dU-rZXn0P",
        "outputId": "86cb5c66-7062-4fc4-9efc-0223b4b32068"
      },
      "execution_count": 67,
      "outputs": [
        {
          "output_type": "stream",
          "name": "stdout",
          "text": [
            "   Cliente ID Cantidad  Precio Fecha Transaccion\n",
            "0           1        A   100.0        2023-01-15\n",
            "1           2        B   200.0        2023-02-20\n",
            "2           3        C   300.0        2023-03-25\n",
            "3           4        D   400.0        2023-04-30\n",
            "4           5        E   500.0        2023-05-10\n"
          ]
        }
      ]
    },
    {
      "cell_type": "code",
      "source": [
        "#A.Escenario: eres un analista de datos en una pequeña empresa que está recopilando información sobre sus clientes.\n",
        "\n",
        "#El equipo de ventas te entrega un archivo con los siguientes datos:\n",
        "#•\tNombre de los clientes\n",
        "#•\tEdad\n",
        "#•\tCorreo electrónico\n",
        "#•\tPaís\n",
        "#•\tGénero\n",
        "#•\tNúmero de visitas a la tienda\n",
        "\n",
        "#Sin embargo, cuando abres el archivo, te das cuenta de que hay problemas en los datos:\n",
        "\n",
        "#1.\tValores faltantes: Algunos clientes no tienen información sobre su edad o correo electrónico.\n",
        "#2.\tDuplicados: Algunos clientes han sido registrados más de una vez.\n",
        "#3.\tInconsistencias: Hay diferentes formas de escribir el género (\"M\", \"Masculino\", \"F\", \"Femenino\").\n",
        "#4.\tErrores tipográficos: El nombre de algunos países está en minúsculas o mal escrito.\n",
        "#5.\tValores inválidos: Hay una edad registrada que parece imposible (200 años).\n",
        "\n",
        "\n",
        "#-\tObjetivo: Tu objetivo es limpiar los datos para que estén listos para el análisis, aplicando las siguientes técnicas:\n",
        "\n",
        "#1.\tRellenar valores faltantes.\n",
        "#2.\tEliminar duplicados.\n",
        "#3.\tEstandarizar los valores de las columnas (como el género y el país).\n",
        "#4.\tCorregir valores inválidos (como la edad de 200 años).\n",
        "\n",
        "\n",
        "\n",
        "data = {\n",
        "    'Nombre': ['Juan', 'Maria', 'Pedro', 'Ana', 'Luisa', 'Carlos', 'Juan'],\n",
        "    'Edad': [25, 30, None, 29, 28, 200, 25],\n",
        "    'Email': ['juan@mail.com', 'maria@mail.com', 'pedro@mail.com', 'ana@mail.com', 'luisa@mail.com', 'carlos@mail.com', 'juan@mail.com'],\n",
        "    'Pais': ['colombia', 'Colombia', 'Mexico', 'Argentina', 'Colombia', 'Brazil', 'colombia'],\n",
        "    'Genero': ['M', 'F', 'H', 'F', 'Femenino', 'M', 'M'],\n",
        "    'Visitas': [5, 7, 6, 4, 8, 2, 5]\n",
        "}\n",
        "\n",
        "# Crear el DataFrame\n",
        "df = pd.DataFrame(data)\n",
        "\n",
        "# se cambia las edades nulas por la media\n",
        "\n",
        "df['Edad'].fillna(df['Edad'].mean(), inplace=True)\n",
        "\n",
        "# se remplaza los valores mayores a 100 por la media\n",
        "\n",
        "df.loc[df['Edad'] > 100,'Edad'] = df['Edad'].mean()\n",
        "\n",
        "# se estandariza colocando la primera letra en mayuscula\n",
        "df['Pais'] = df['Pais'].str.title()\n",
        "\n",
        "# se estandariza el genero por letras\n",
        "df['Genero'] = df['Genero'].replace({'Femenino': 'F', 'Masculino': 'M'}, regex=True)\n",
        "df.drop_duplicates(inplace=True)\n",
        "\n",
        "\n",
        "# Mostrar el DataFrame\n",
        "print(df)\n",
        "\n",
        "\n",
        "\n",
        "\n"
      ],
      "metadata": {
        "colab": {
          "base_uri": "https://localhost:8080/"
        },
        "id": "Rpnx8aEYbru_",
        "outputId": "52376fb7-5577-4f00-a884-682dde820978"
      },
      "execution_count": 68,
      "outputs": [
        {
          "output_type": "stream",
          "name": "stdout",
          "text": [
            "   Nombre       Edad            Email       Pais Genero  Visitas\n",
            "0    Juan  25.000000    juan@mail.com   Colombia      M        5\n",
            "1   Maria  30.000000   maria@mail.com   Colombia      F        7\n",
            "2   Pedro  56.166667   pedro@mail.com     Mexico      H        6\n",
            "3     Ana  29.000000     ana@mail.com  Argentina      F        4\n",
            "4   Luisa  28.000000   luisa@mail.com   Colombia      F        8\n",
            "5  Carlos  56.166667  carlos@mail.com     Brazil      M        2\n"
          ]
        },
        {
          "output_type": "stream",
          "name": "stderr",
          "text": [
            "<ipython-input-68-cc65e0704dc1>:43: FutureWarning: A value is trying to be set on a copy of a DataFrame or Series through chained assignment using an inplace method.\n",
            "The behavior will change in pandas 3.0. This inplace method will never work because the intermediate object on which we are setting values always behaves as a copy.\n",
            "\n",
            "For example, when doing 'df[col].method(value, inplace=True)', try using 'df.method({col: value}, inplace=True)' or df[col] = df[col].method(value) instead, to perform the operation inplace on the original object.\n",
            "\n",
            "\n",
            "  df['Edad'].fillna(df['Edad'].mean(), inplace=True)\n"
          ]
        }
      ]
    }
  ]
}
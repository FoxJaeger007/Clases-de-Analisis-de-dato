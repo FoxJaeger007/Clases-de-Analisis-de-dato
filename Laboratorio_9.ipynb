{
  "nbformat": 4,
  "nbformat_minor": 0,
  "metadata": {
    "colab": {
      "provenance": [],
      "authorship_tag": "ABX9TyMTHYPHBEQp7X0LT0QgsPl+",
      "include_colab_link": true
    },
    "kernelspec": {
      "name": "python3",
      "display_name": "Python 3"
    },
    "language_info": {
      "name": "python"
    }
  },
  "cells": [
    {
      "cell_type": "markdown",
      "metadata": {
        "id": "view-in-github",
        "colab_type": "text"
      },
      "source": [
        "<a href=\"https://colab.research.google.com/github/FoxJaeger007/Clases-de-Analisis-de-dato/blob/main/Laboratorio_9.ipynb\" target=\"_parent\"><img src=\"https://colab.research.google.com/assets/colab-badge.svg\" alt=\"Open In Colab\"/></a>"
      ]
    },
    {
      "cell_type": "code",
      "execution_count": 31,
      "metadata": {
        "colab": {
          "base_uri": "https://localhost:8080/"
        },
        "id": "26iocrQJMsow",
        "outputId": "b08964b3-06d2-4c2a-bb25-d164cfb2590d"
      },
      "outputs": [
        {
          "output_type": "stream",
          "name": "stdout",
          "text": [
            "Valores faltantes por columna:\n",
            "Nombre          0\n",
            "Edad            1\n",
            "Salario         0\n",
            "FechaIngreso    0\n",
            "dtype: int64\n"
          ]
        }
      ],
      "source": [
        "#1.\tEjercicio de práctica 1. Aseguramiento de la Calidad de los Datos\n",
        "#1.\tSe tiene un conjunto de datos sobre empleados que incluye su nombre, edad, salario y fecha de ingreso. Se requiere implementar algunos pasos de aseguramiento de la calidad de los datos, como la verificación de valores faltantes y la validación de formatos de datos.\n",
        "#1.\tIdentificar y contar los valores faltantes en cada columna.\n",
        "\n",
        "import pandas as pd\n",
        "\n",
        "# Datos originales\n",
        "data = {\n",
        "'Nombre': ['Juan', 'Ana', 'Pedro', 'María','Luis', 'Ana'],\n",
        "'Edad': [28, 34, None, 45, 38, 34],\n",
        "'Salario': ['3000', '4000','cinco mil', '4500', '4000', '5000'],\n",
        "'FechaIngreso': ['2021-01-15', '2020/03/12', '2022-07-01', '2021/12/01', '2021-05-20', '2020-03-12' ]\n",
        "}\n",
        "df = pd.DataFrame(data)\n",
        "# Identificar y contar los valores faltantes\n",
        "valores_faltantes = df.isnull().sum()\n",
        "print(\"Valores faltantes por columna:\")\n",
        "print(valores_faltantes)\n",
        "\n"
      ]
    },
    {
      "cell_type": "code",
      "source": [
        "#1.1.2.\tIdentificar y contar los valores faltantes en cada columna.\n",
        "\n",
        "\n",
        "salarios_incorrectos = df[~df['Salario'].str.replace('[^0-9]', '',\n",
        "regex=True).fillna('').str.isdigit()]\n",
        "print(\"\\nSalarios con formato incorrecto:\")\n",
        "print(salarios_incorrectos)"
      ],
      "metadata": {
        "colab": {
          "base_uri": "https://localhost:8080/"
        },
        "id": "HHk9ch4vVWEh",
        "outputId": "d64ace07-b042-47d7-b5b7-026129600504"
      },
      "execution_count": 32,
      "outputs": [
        {
          "output_type": "stream",
          "name": "stdout",
          "text": [
            "\n",
            "Salarios con formato incorrecto:\n",
            "  Nombre  Edad    Salario FechaIngreso\n",
            "2  Pedro   NaN  cinco mil   2022-07-01\n"
          ]
        }
      ]
    },
    {
      "cell_type": "markdown",
      "source": [],
      "metadata": {
        "id": "4ggRvco2Zq31"
      }
    },
    {
      "cell_type": "code",
      "source": [
        "#1.1.3.\tValidar y estandarizar el formato de la columna 'Fecha Ingreso' a YYYY-MM-DD.\n",
        "\n",
        "df['FechaIngreso'] = pd.to_datetime(df['FechaIngreso'],\n",
        "errors='coerce', format='%Y/%m/%d',dayfirst=True)\n",
        "print(\"\\nDatos después de estandarizar 'FechaIngreso':\")\n",
        "print(df[['Nombre', 'FechaIngreso']])"
      ],
      "metadata": {
        "colab": {
          "base_uri": "https://localhost:8080/"
        },
        "id": "-hbDHu13WiD3",
        "outputId": "1894121c-1f81-471d-d16b-96233afe9ade"
      },
      "execution_count": 33,
      "outputs": [
        {
          "output_type": "stream",
          "name": "stdout",
          "text": [
            "\n",
            "Datos después de estandarizar 'FechaIngreso':\n",
            "  Nombre FechaIngreso\n",
            "0   Juan          NaT\n",
            "1    Ana   2020-03-12\n",
            "2  Pedro          NaT\n",
            "3  María   2021-12-01\n",
            "4   Luis          NaT\n",
            "5    Ana          NaT\n"
          ]
        }
      ]
    },
    {
      "cell_type": "code",
      "source": [
        "#1.2.Se tiene un conjunto de datos sobre empleados que incluye su nombre, edad\n",
        "#, salario, puesto de trabajo y fecha de ingreso. Se requiere implementar aseguramiento de la calidad de los datos\n",
        "#, verificando la completitud de los datos, la validez de los salarios y la consistencia de las fechas de ingreso.\n",
        "#1.\tIdentificar y contar los valores faltantes en cada columna.\n",
        "\n",
        "data = {\n",
        "'Nombre': ['Juan', 'Ana', 'Pedro', 'María', 'Luis', 'Carla'],\n",
        "'Edad': [28, 34, None, 45, 38, 34],\n",
        "'Salario': ['3000', '4000', '4500', 'cuatro mil', '5000', '4000'],\n",
        "'Cargo' : [ 'Analista', 'Gerente', 'Desarrollador', 'Gerente', 'Analista', None],\n",
        "'FechaIngreso': ['2021-01-15', '2020/03/12', '2022-07-01', '2021/12/01', None, '2020-03-12']\n",
        "}\n",
        "\n",
        "df = pd.DataFrame(data)\n",
        "# Identificar y contar los valores faltantes\n",
        "valores_faltantes = df.isnull().sum()\n",
        "print(\"Valores faltantes por columna:\")\n",
        "print(valores_faltantes)\n",
        "\n"
      ],
      "metadata": {
        "colab": {
          "base_uri": "https://localhost:8080/"
        },
        "id": "Tz2-1OSZW6RF",
        "outputId": "3258c65c-c926-4641-9f4d-4e562b449ab3"
      },
      "execution_count": 34,
      "outputs": [
        {
          "output_type": "stream",
          "name": "stdout",
          "text": [
            "Valores faltantes por columna:\n",
            "Nombre          0\n",
            "Edad            1\n",
            "Salario         0\n",
            "Cargo           1\n",
            "FechaIngreso    1\n",
            "dtype: int64\n"
          ]
        }
      ]
    },
    {
      "cell_type": "code",
      "source": [
        "#1.2.2.\tIdentificar y contar los valores faltantes en cada columna.\n",
        "\n",
        "salarios_incorrectos = df[~df['Salario'].str.replace('[^0-9]', '',\n",
        "regex=True).fillna('').str.isdigit()]\n",
        "print(\"\\nSalarios con formato incorrecto:\")\n",
        "print(salarios_incorrectos)"
      ],
      "metadata": {
        "colab": {
          "base_uri": "https://localhost:8080/"
        },
        "id": "znHl0VL5bNK2",
        "outputId": "ed4f7adc-ebdd-4d8c-89c3-3b49de30830e"
      },
      "execution_count": 35,
      "outputs": [
        {
          "output_type": "stream",
          "name": "stdout",
          "text": [
            "\n",
            "Salarios con formato incorrecto:\n",
            "  Nombre  Edad     Salario    Cargo FechaIngreso\n",
            "3  María  45.0  cuatro mil  Gerente   2021/12/01\n"
          ]
        }
      ]
    },
    {
      "cell_type": "code",
      "source": [
        "#1.2.3.\tValidar y estandarizar el formato de la columna 'Fecha Ingreso' a YYYY-MM-DD.\n",
        "\n",
        "df['FechaIngreso'] = pd.to_datetime(df['FechaIngreso'],\n",
        "errors='coerce', format='%Y/%m/%d',dayfirst=True)\n",
        "print(\"\\nDatos después de estandarizar 'FechaIngreso':\")\n",
        "print(df[['Nombre', 'FechaIngreso']])"
      ],
      "metadata": {
        "colab": {
          "base_uri": "https://localhost:8080/"
        },
        "id": "JQZjSH7acJx3",
        "outputId": "eccd22c1-d5d3-4813-828d-7b0812723535"
      },
      "execution_count": 36,
      "outputs": [
        {
          "output_type": "stream",
          "name": "stdout",
          "text": [
            "\n",
            "Datos después de estandarizar 'FechaIngreso':\n",
            "  Nombre FechaIngreso\n",
            "0   Juan          NaT\n",
            "1    Ana   2020-03-12\n",
            "2  Pedro          NaT\n",
            "3  María   2021-12-01\n",
            "4   Luis          NaT\n",
            "5  Carla          NaT\n"
          ]
        }
      ]
    },
    {
      "cell_type": "code",
      "source": [
        "# 2 El segundo ejercicio de práctica deberás realizar el código usando las bibliotecas en\n",
        "#Python para la manipulación de los datos y aplicar la calidad de los datos, pegar\n",
        "#la captura de pantalla del resultado y copi ar el código según el escenario.\n",
        "#1.\tEjercicio de práctica 2.\n",
        "#1. Se requiere validar los datos: Precios de Productos, se tiene una lista de productos con los respectivos precios y se necesita validar que ningún precio sea negativo o nulo.\n",
        "\n",
        "#1.\tCrear un DataFrame con productos y precios.\n",
        "#2.\tProducto: Producto A, Producto B,Producto C,Producto D.\n",
        "#3.\tPrecio:150, -25, 100, None.\n",
        "\n",
        "data = datos={\n",
        "'Producto':['ProductoA','ProductoB','ProductoC','ProductoD'],\n",
        "'Precio':[150, -25, 100, None]}#\n",
        "\n",
        "df = pd.DataFrame(data)\n",
        "\n",
        "print(df)"
      ],
      "metadata": {
        "colab": {
          "base_uri": "https://localhost:8080/"
        },
        "id": "kaXkKOzkcSMf",
        "outputId": "0db31fbe-63f3-4d99-f0dd-686569fdf5fb"
      },
      "execution_count": 37,
      "outputs": [
        {
          "output_type": "stream",
          "name": "stdout",
          "text": [
            "    Producto  Precio\n",
            "0  ProductoA   150.0\n",
            "1  ProductoB   -25.0\n",
            "2  ProductoC   100.0\n",
            "3  ProductoD     NaN\n"
          ]
        }
      ]
    },
    {
      "cell_type": "code",
      "source": [
        "#2.1.4 y 2.1.5\tValidar que todos los precios sean mayores o iguales a cero y no nulos.\n",
        "\n",
        "\n",
        "df['ValidaciónPrecio']=df['Precio'].apply(lambda x:'Válido' if pd.notnull(x)and x>=0 else'Inválido')\n",
        "print(df)"
      ],
      "metadata": {
        "colab": {
          "base_uri": "https://localhost:8080/"
        },
        "id": "xZ-i0GKnd3c2",
        "outputId": "28bb01c3-2dd7-4144-a622-3715c4a459b0"
      },
      "execution_count": 38,
      "outputs": [
        {
          "output_type": "stream",
          "name": "stdout",
          "text": [
            "    Producto  Precio ValidaciónPrecio\n",
            "0  ProductoA   150.0           Válido\n",
            "1  ProductoB   -25.0         Inválido\n",
            "2  ProductoC   100.0           Válido\n",
            "3  ProductoD     NaN         Inválido\n"
          ]
        }
      ]
    },
    {
      "cell_type": "code",
      "source": [
        "#2.2..\tSe requiere validar los datos duplicados: Clientes en una Base de Datos,\n",
        "# se tiene una lista de clientes donde algunos registros tienen el mismo ID y necesitas identificarlos.\n",
        "\n",
        "#Se requiere\n",
        "\n",
        "#1.\tCrear un DataFrame con información de clientes.\n",
        "#2.\tID Cliente:1, 2, 3, 2, 4.\n",
        "#3.\tNombre: Ana, Luis, María, Luis, Carlos\n",
        "\n",
        "\n",
        "data = datos={\n",
        "'ID Cliente':[1, 2, 3, 2, 4],\n",
        "'Nombre':['Ana', 'Luis', 'María', 'Luis', 'Carlos']}\n",
        "\n",
        "df = pd.DataFrame(data)\n",
        "\n",
        "print(df)"
      ],
      "metadata": {
        "colab": {
          "base_uri": "https://localhost:8080/"
        },
        "id": "ZZr24WhFeZ8a",
        "outputId": "4da8859a-f59f-4e29-ab75-6ad2a3023260"
      },
      "execution_count": 39,
      "outputs": [
        {
          "output_type": "stream",
          "name": "stdout",
          "text": [
            "   ID Cliente  Nombre\n",
            "0           1     Ana\n",
            "1           2    Luis\n",
            "2           3   María\n",
            "3           2    Luis\n",
            "4           4  Carlos\n"
          ]
        }
      ]
    },
    {
      "cell_type": "code",
      "source": [
        "#2.2.4 \tVerificar si hay duplicados en la columna de ID del cliente.\n",
        "#2.2.5  Mostrar los registros duplicados.\n",
        "\n",
        "duplicados=df[df.duplicated('ID Cliente')]\n",
        "print(duplicados)\n",
        "\n"
      ],
      "metadata": {
        "colab": {
          "base_uri": "https://localhost:8080/"
        },
        "id": "V7x1abNhfyQq",
        "outputId": "487f2658-664a-4b17-810a-d3a54819181e"
      },
      "execution_count": 40,
      "outputs": [
        {
          "output_type": "stream",
          "name": "stdout",
          "text": [
            "   ID Cliente Nombre\n",
            "3           2   Luis\n"
          ]
        }
      ]
    },
    {
      "cell_type": "code",
      "source": [
        "#2.3 3.\tSe requiere tener seguridad en los datos: Encriptación\n",
        "#y Desencriptación de Datos Sensibles, se tiene un número de tarjeta\n",
        "#de crédito que deseas encriptar para protegerlo y luego desencriptarlo para el uso.\n",
        "\n",
        "\n",
        "#1.\tCrear una cadena con datos sensibles (un número de tarjeta 1234-5678-9101- 1121).\n",
        "#2.\tEncriptar esos datos utilizando una clave generada.\n",
        "#3.\tDesencriptar los datos y mostrar ambos (encriptado y desencriptado).\n",
        "\n",
        "\n",
        "from cryptography.fernet import Fernet\n",
        "key = Fernet.generate_key()\n",
        "cipher_suite= Fernet(key)\n",
        "datos_sensibles= \"1234-5678-9101-1121\".encode()\n",
        "datos_encriptados= cipher_suite.encrypt(datos_sensibles)\n",
        "datos_desencriptados= cipher_suite.decrypt(datos_encriptados)\n",
        "print(\"Datos Encriptados:\", datos_encriptados)\n",
        "print(\"Datos Desencriptados:\", datos_desencriptados.decode())\n",
        "\n"
      ],
      "metadata": {
        "colab": {
          "base_uri": "https://localhost:8080/"
        },
        "id": "qO8gOT8QgaCV",
        "outputId": "ba915b79-5838-4ce1-c8d0-2a2f45cdbba2"
      },
      "execution_count": 41,
      "outputs": [
        {
          "output_type": "stream",
          "name": "stdout",
          "text": [
            "Datos Encriptados: b'gAAAAABnNWIXA-righ9kOD_e9LUU_pxx8N2WWhxL2IR04EdwX4URYl_rqVm1W5yGyNPfsCI9SqPc6CNp6h1I1rSCK938DRTrFxmvn2Gs1udLfVDtIwTzVeI='\n",
            "Datos Desencriptados: 1234-5678-9101-1121\n"
          ]
        }
      ]
    }
  ]
}